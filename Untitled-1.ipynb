{
 "cells": [
  {
   "cell_type": "markdown",
   "metadata": {},
   "source": [
    "Name: Dhruv Patel\n",
    "\n",
    "Assignment: Project 2; Part 2 Web Scraped Data Analysis "
   ]
  },
  {
   "cell_type": "code",
   "execution_count": null,
   "metadata": {},
   "outputs": [],
   "source": [
    "### Scraping the data ###\n",
    "\n",
    "\n",
    "import requests\n",
    "from bs4 import BeautifulSoup\n",
    "import pandas as pd\n",
    "\n",
    "# Initialize an empty list to store data\n",
    "data = []\n",
    "\n",
    "# Base URL for the website\n",
    "base_url = \"http://quotes.toscrape.com/page/{}/\"\n",
    "\n",
    "# Scrape the first 5 pages\n",
    "for page in range(1, 6):\n",
    "    response = requests.get(base_url.format(page))\n",
    "    soup = BeautifulSoup(response.content, 'html.parser')\n",
    "    \n",
    "    # Extract quotes, authors, and tags\n",
    "    for quote in soup.find_all('div', class_='quote'):\n",
    "        text = quote.find('span', class_='text').text\n",
    "        author = quote.find('small', class_='author').text\n",
    "        tags = [tag.text for tag in quote.find_all('a', class_='tag')]\n",
    "        data.append({\"Quote\": text, \"Author\": author, \"Tags\": tags})\n",
    "\n",
    "# Convert the data into a pandas DataFrame\n",
    "df = pd.DataFrame(data)\n",
    "\n",
    "# Display the first few rows\n",
    "print(df.head())\n"
   ]
  },
  {
   "cell_type": "markdown",
   "metadata": {},
   "source": [
    "In this step we are scraping data from Quotes to Scrape website, which provides quotes, authors, and their associated tasks. The data will be collected for the first 5 pages of the website.  "
   ]
  },
  {
   "cell_type": "code",
   "execution_count": null,
   "metadata": {},
   "outputs": [],
   "source": [
    "### Cleaning the data ###\n",
    "\n",
    "# Convert the Tags column from lists to a single string for each row\n",
    "df['Tags'] = df['Tags'].apply(lambda tags: ', '.join(tags))\n",
    "\n",
    "# Check for missing values\n",
    "print(df.isnull().sum())\n",
    "\n",
    "# Remove duplicate rows, if any\n",
    "df.drop_duplicates(inplace=True)\n",
    "\n",
    "# Display the cleaned data\n",
    "print(df.head())\n"
   ]
  },
  {
   "cell_type": "markdown",
   "metadata": {},
   "source": [
    "After scraping the data, it is very important that we clean it for a better usability and anaylsis. This step is to ensure that your dataset doesnt have any redudent rows, missing values or anything of such sort."
   ]
  },
  {
   "cell_type": "code",
   "execution_count": null,
   "metadata": {},
   "outputs": [],
   "source": [
    "### Data Analysis and Visualization ###\n",
    "# Most frequently quoted authors #\n",
    "\n",
    "import seaborn as sns\n",
    "import matplotlib.pyplot as plt\n",
    "\n",
    "# Top 5 authors with the most quotes\n",
    "top_authors = df['Author'].value_counts().head(5)\n",
    "print(\"Most Frequently Quoted Authors:\")\n",
    "print(top_authors)\n",
    "\n",
    "# Plot\n",
    "sns.barplot(x=top_authors.values, y=top_authors.index, palette='viridis')\n",
    "plt.title(\"Top 5 Most Frequently Quoted Authors\")\n",
    "plt.xlabel(\"Number of Quotes\")\n",
    "plt.ylabel(\"Author\")\n",
    "plt.show()\n"
   ]
  },
  {
   "cell_type": "markdown",
   "metadata": {},
   "source": [
    "This is to identify and take note of the most frequently quoted authors in the dataset. By doing this we can who has the most quotes."
   ]
  },
  {
   "cell_type": "code",
   "execution_count": null,
   "metadata": {},
   "outputs": [],
   "source": [
    "# Most Common Tags #\n",
    "\n",
    "from collections import Counter\n",
    "\n",
    "# Flatten the list of all tags\n",
    "all_tags = [tag for tags in df['Tags'].str.split(', ') for tag in tags]\n",
    "\n",
    "# Count the most common tags\n",
    "tag_counts = Counter(all_tags).most_common(5)\n",
    "print(\"Most Common Tags:\", tag_counts)\n",
    "\n",
    "# Create a DataFrame for plotting\n",
    "tags_df = pd.DataFrame(tag_counts, columns=['Tag', 'Count'])\n",
    "\n",
    "# Plot\n",
    "sns.barplot(x='Count', y='Tag', data=tags_df, palette='muted')\n",
    "plt.title(\"Top 5 Most Common Tags\")\n",
    "plt.xlabel(\"Frequency\")\n",
    "plt.ylabel(\"Tag\")\n",
    "plt.show()\n"
   ]
  },
  {
   "cell_type": "markdown",
   "metadata": {},
   "source": [
    "The sections analyzes the most occuring tags across the quotes in the dataset. These tags help us to notice the recurring themes and topics discussed in the quotes.   "
   ]
  },
  {
   "cell_type": "code",
   "execution_count": null,
   "metadata": {},
   "outputs": [],
   "source": [
    "# Number of Unique Authors that are quoted #\n",
    "\n",
    "unique_authors = df['Author'].nunique()\n",
    "print(f\"Total Unique Authors: {unique_authors}\")\n"
   ]
  },
  {
   "cell_type": "code",
   "execution_count": null,
   "metadata": {},
   "outputs": [],
   "source": [
    "# How many quotes contain the word \"life\" #\n",
    "\n",
    "life_quotes = df['Quote'].str.contains(\"life\", case=False).sum()\n",
    "print(f\"Number of Quotes Containing 'life': {life_quotes}\")\n"
   ]
  }
 ],
 "metadata": {
  "kernelspec": {
   "display_name": "Python 3",
   "language": "python",
   "name": "python3"
  },
  "language_info": {
   "codemirror_mode": {
    "name": "ipython",
    "version": 3
   },
   "file_extension": ".py",
   "mimetype": "text/x-python",
   "name": "python",
   "nbconvert_exporter": "python",
   "pygments_lexer": "ipython3",
   "version": "3.12.5"
  }
 },
 "nbformat": 4,
 "nbformat_minor": 2
}
